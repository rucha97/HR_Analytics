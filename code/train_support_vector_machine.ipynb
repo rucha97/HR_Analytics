{
 "cells": [
  {
   "cell_type": "code",
   "execution_count": 1,
   "id": "eb858b15",
   "metadata": {},
   "outputs": [],
   "source": [
    "import numpy as np\n",
    "import matplotlib.pyplot as plt\n",
    "import sklearn\n",
    "import sklearn.svm             # For SVC class\n",
    "import sklearn.preprocessing   # For scale function\n",
    "import sklearn.metrics         # for accuracy_score\n",
    "import pickle                  # save the trained models\n",
    "import seaborn as sns"
   ]
  },
  {
   "cell_type": "markdown",
   "id": "658dcbc4",
   "metadata": {},
   "source": [
    "### Loading and splitting the data."
   ]
  },
  {
   "cell_type": "code",
   "execution_count": 2,
   "id": "e59b723e",
   "metadata": {},
   "outputs": [],
   "source": [
    "data_downSampling = np.genfromtxt('dataset_down_sampling.csv', delimiter=\",\")\n",
    "data_upSampling = np.genfromtxt('dataset_up_sampling.csv', delimiter=\",\")"
   ]
  },
  {
   "cell_type": "code",
   "execution_count": 3,
   "id": "a31f203e",
   "metadata": {},
   "outputs": [
    {
     "data": {
      "text/plain": [
       "(25090, 12)"
      ]
     },
     "execution_count": 3,
     "metadata": {},
     "output_type": "execute_result"
    }
   ],
   "source": [
    "data_upSampling.shape"
   ]
  },
  {
   "cell_type": "code",
   "execution_count": 5,
   "id": "eb4522c3",
   "metadata": {},
   "outputs": [],
   "source": [
    "X_train_down, X_test_down, y_train_down, y_test_down = sklearn.model_selection.train_test_split(data_downSampling[:, :-1], \n",
    "                                                                                    data_downSampling[:,-1],\n",
    "                                                                                    test_size=0.2, random_state=0)\n",
    "X_train_up, X_test_up, y_train_up, y_test_up = sklearn.model_selection.train_test_split(data_upSampling[:, :-1], \n",
    "                                                                                    data_upSampling[:,-1],\n",
    "                                                                                    test_size=0.2, random_state=0)"
   ]
  },
  {
   "cell_type": "markdown",
   "id": "b3a62e8f",
   "metadata": {},
   "source": [
    "### Display the sizes after splitting."
   ]
  },
  {
   "cell_type": "code",
   "execution_count": 6,
   "id": "edddb3e4",
   "metadata": {},
   "outputs": [
    {
     "name": "stdout",
     "output_type": "stream",
     "text": [
      "Down Sampling.\n",
      "X_train size:  (6051, 11)\n",
      "y_train size:  (6051,)\n",
      "X_test size:  (1513, 11)\n",
      "X_test size:  (1513,)\n",
      "\n",
      "Up Sampling.\n",
      "X_train size:  (20072, 11)\n",
      "y_train size:  (20072,)\n",
      "X_test size:  (5018, 11)\n",
      "X_test size:  (5018,)\n"
     ]
    }
   ],
   "source": [
    "print('Down Sampling.')\n",
    "print('X_train size: ', X_train_down.shape)\n",
    "print('y_train size: ', y_train_down.shape)\n",
    "print('X_test size: ', X_test_down.shape)\n",
    "print('X_test size: ', y_test_down.shape)\n",
    "\n",
    "print('\\nUp Sampling.')\n",
    "print('X_train size: ', X_train_up.shape)\n",
    "print('y_train size: ', y_train_up.shape)\n",
    "print('X_test size: ', X_test_up.shape)\n",
    "print('X_test size: ', y_test_up.shape)"
   ]
  },
  {
   "cell_type": "markdown",
   "id": "17a78d24",
   "metadata": {},
   "source": [
    "### Load the trained models\n",
    "ONLY IF YOU HAVE RAN THE WHOLE CODE ONCE BEFROE"
   ]
  },
  {
   "cell_type": "code",
   "execution_count": 7,
   "id": "fe0095ef",
   "metadata": {},
   "outputs": [
    {
     "name": "stderr",
     "output_type": "stream",
     "text": [
      "C:\\Users\\nalve\\anaconda3\\envs\\venv\\lib\\site-packages\\sklearn\\base.py:324: UserWarning: Trying to unpickle estimator SVC from version 0.24.1 when using version 1.0.1. This might lead to breaking code or invalid results. Use at your own risk. For more info please refer to:\n",
      "https://scikit-learn.org/stable/modules/model_persistence.html#security-maintainability-limitations\n",
      "  warnings.warn(\n"
     ]
    }
   ],
   "source": [
    "svm_down_l = pickle.load(open('svmSave/svm_down_l.sav', 'rb'))\n",
    "svm_down_p = pickle.load(open('svmSave/svm_down_p.sav', 'rb'))\n",
    "svm_down_r = pickle.load(open('svmSave/svm_down_r.sav', 'rb'))\n",
    "svm_up_l = pickle.load(open('svmSave/svm_up_l.sav', 'rb'))\n",
    "svm_up_p = pickle.load(open('svmSave/svm_up_p.sav', 'rb'))\n",
    "svm_up_r = pickle.load(open('svmSave/svm_up_r.sav', 'rb'))"
   ]
  },
  {
   "cell_type": "markdown",
   "id": "6d930d52",
   "metadata": {},
   "source": [
    "### Define evaluation function."
   ]
  },
  {
   "cell_type": "code",
   "execution_count": 8,
   "id": "8979eb34",
   "metadata": {},
   "outputs": [],
   "source": [
    "def evaluate (X_test, y_test, model):\n",
    "    y_predict = model.predict(X_test)\n",
    "    accuracy = sklearn.metrics.accuracy_score(y_test, y_predict)*100\n",
    "    precision = sklearn.metrics.precision_score(y_test, y_predict)*100\n",
    "    recall = sklearn.metrics.recall_score(y_test, y_predict)*100\n",
    "    roc = sklearn.metrics.roc_auc_score(y_test,y_predict)*100\n",
    "    print('Accuracy = %.2f%%' %accuracy)\n",
    "    print('Precision = %.2f%%' %precision)\n",
    "    print('Recall = %.2f%%' %recall)\n",
    "    print('ROC = %.2f%%' %roc)\n",
    "    \n",
    "    return y_predict, accuracy, precision, recall, roc"
   ]
  },
  {
   "cell_type": "markdown",
   "id": "ab6ca542",
   "metadata": {},
   "source": [
    "### Down sampling training."
   ]
  },
  {
   "cell_type": "code",
   "execution_count": 8,
   "id": "ad3ae372",
   "metadata": {},
   "outputs": [],
   "source": [
    "# svm_down_l = sklearn.svm.SVC(kernel='linear').fit(X_train_down, y_train_down)"
   ]
  },
  {
   "cell_type": "code",
   "execution_count": 9,
   "id": "ba59b6a6",
   "metadata": {},
   "outputs": [
    {
     "name": "stdout",
     "output_type": "stream",
     "text": [
      "Accuracy = 65.96%\n",
      "Precision = 69.03%\n",
      "Recall = 56.99%\n",
      "ROC = 65.90%\n"
     ]
    }
   ],
   "source": [
    "y_down_l_predict, accuracy_down_l, precision_down_l, recall_down_l, roc_down_l = evaluate (X_test_down, y_test_down, svm_down_l)"
   ]
  },
  {
   "cell_type": "code",
   "execution_count": 10,
   "id": "908dfd2d",
   "metadata": {},
   "outputs": [],
   "source": [
    "# svm_down_p = sklearn.svm.SVC(kernel='poly', degree=2, coef0=3, gamma=1).fit(X_train_down, y_train_down)"
   ]
  },
  {
   "cell_type": "code",
   "execution_count": 10,
   "id": "b70e6d40",
   "metadata": {},
   "outputs": [
    {
     "name": "stdout",
     "output_type": "stream",
     "text": [
      "Accuracy = 65.90%\n",
      "Precision = 66.16%\n",
      "Recall = 64.05%\n",
      "ROC = 65.88%\n"
     ]
    }
   ],
   "source": [
    "y_down_p_predict, accuracy_down_p, precision_down_p, recall_down_p, roc_down_p = evaluate (X_test_down, y_test_down, svm_down_p)"
   ]
  },
  {
   "cell_type": "code",
   "execution_count": 12,
   "id": "99b02e16",
   "metadata": {},
   "outputs": [],
   "source": [
    "# svm_down_r = sklearn.svm.SVC(kernel='rbf', gamma=1).fit(X_train_down, y_train_down)"
   ]
  },
  {
   "cell_type": "code",
   "execution_count": 11,
   "id": "7c0671e0",
   "metadata": {},
   "outputs": [
    {
     "name": "stdout",
     "output_type": "stream",
     "text": [
      "Accuracy = 59.42%\n",
      "Precision = 55.74%\n",
      "Recall = 88.55%\n",
      "ROC = 59.63%\n"
     ]
    }
   ],
   "source": [
    "y_down_r_predict, accuracy_down_r, precision_down_r, recall_down_r, roc_down_r = evaluate (X_test_down, y_test_down, svm_down_r)"
   ]
  },
  {
   "cell_type": "markdown",
   "id": "572a5a17",
   "metadata": {},
   "source": [
    "### Up sampling training."
   ]
  },
  {
   "cell_type": "code",
   "execution_count": 14,
   "id": "caf7648c",
   "metadata": {},
   "outputs": [],
   "source": [
    "# svm_up_l = sklearn.svm.SVC(kernel='linear').fit(X_train_up, y_train_up)"
   ]
  },
  {
   "cell_type": "code",
   "execution_count": 12,
   "id": "c85e62c7",
   "metadata": {},
   "outputs": [
    {
     "name": "stdout",
     "output_type": "stream",
     "text": [
      "Accuracy = 67.74%\n",
      "Precision = 73.67%\n",
      "Recall = 56.12%\n",
      "ROC = 67.84%\n"
     ]
    }
   ],
   "source": [
    "y_up_l_predict, accuracy_up_l, precision_up_l, recall_up_l, roc_up_l = evaluate (X_test_up, y_test_up, svm_up_l)"
   ]
  },
  {
   "cell_type": "code",
   "execution_count": 16,
   "id": "514339ce",
   "metadata": {},
   "outputs": [],
   "source": [
    "# svm_up_p = sklearn.svm.SVC(kernel='poly', degree=2, coef0=3, gamma=1).fit(X_train_up, y_train_up)"
   ]
  },
  {
   "cell_type": "code",
   "execution_count": 13,
   "id": "f28d22b4",
   "metadata": {},
   "outputs": [
    {
     "name": "stdout",
     "output_type": "stream",
     "text": [
      "Accuracy = 67.58%\n",
      "Precision = 68.49%\n",
      "Recall = 66.19%\n",
      "ROC = 67.59%\n"
     ]
    }
   ],
   "source": [
    "y_up_p_predict, accuracy_up_p, precision_up_p, recall_up_p, roc_up_p = evaluate (X_test_up, y_test_up, svm_up_p)"
   ]
  },
  {
   "cell_type": "code",
   "execution_count": 18,
   "id": "9998ff65",
   "metadata": {},
   "outputs": [],
   "source": [
    "# svm_up_r = sklearn.svm.SVC(kernel='rbf', gamma=1).fit(X_train_up, y_train_up)"
   ]
  },
  {
   "cell_type": "code",
   "execution_count": 14,
   "id": "3961b517",
   "metadata": {},
   "outputs": [
    {
     "name": "stdout",
     "output_type": "stream",
     "text": [
      "Accuracy = 94.78%\n",
      "Precision = 96.03%\n",
      "Recall = 93.52%\n",
      "ROC = 94.79%\n"
     ]
    }
   ],
   "source": [
    "y_up_r_predict, accuracy_up_r, precision_up_r, recall_up_r, roc_up_r = evaluate (X_test_up, y_test_up, svm_up_r)"
   ]
  },
  {
   "cell_type": "markdown",
   "id": "40453175",
   "metadata": {},
   "source": [
    "### Save the trained models"
   ]
  },
  {
   "cell_type": "code",
   "execution_count": 20,
   "id": "af524b59",
   "metadata": {},
   "outputs": [],
   "source": [
    "# svm_down_l_file = 'svm_down_l.sav'\n",
    "# pickle.dump(svm_down_l, open(svm_down_l_file, 'wb'))\n",
    "# svm_down_p_file = 'svm_down_p.sav'\n",
    "# pickle.dump(svm_down_p, open(svm_down_p_file, 'wb'))\n",
    "# svm_down_r_file = 'svm_down_r.sav'\n",
    "# pickle.dump(svm_down_r, open(svm_down_r_file, 'wb'))\n",
    "# svm_up_l_file = 'svm_up_l.sav'\n",
    "# pickle.dump(svm_up_l, open(svm_up_l_file, 'wb'))\n",
    "# svm_up_p_file = 'svm_up_p.sav'\n",
    "# pickle.dump(svm_up_p, open(svm_up_p_file, 'wb'))\n",
    "# svm_up_r_file = 'svm_up_r.sav'\n",
    "# pickle.dump(svm_up_r, open(svm_up_r_file, 'wb'))"
   ]
  },
  {
   "cell_type": "markdown",
   "id": "92078c23",
   "metadata": {},
   "source": [
    "### Define plotting function."
   ]
  },
  {
   "cell_type": "code",
   "execution_count": 15,
   "id": "8d59818a",
   "metadata": {},
   "outputs": [],
   "source": [
    "svm_n = ['DS Linear', 'DS Poly', 'DS RBF', 'US Linear', 'US Poly', 'US RBF'] # DS: Down Sampling, US: Up Sampling.\n",
    "\n",
    "def plot(values, title, color):\n",
    "    plt.figure()\n",
    "    plt.bar(svm_n, values, color=color)\n",
    "    plt.ylim(0,100)\n",
    "    plt.ylabel('%s %%' %title)\n",
    "    plt.title('SVM %s(s) with different kernels' %title);"
   ]
  },
  {
   "cell_type": "markdown",
   "id": "ff4f6774",
   "metadata": {},
   "source": [
    "### Comparison"
   ]
  },
  {
   "cell_type": "code",
   "execution_count": 16,
   "id": "49a82cb1",
   "metadata": {},
   "outputs": [
    {
     "data": {
      "image/png": "[encoded data removed]",
      "text/plain": [
       "<Figure size 432x288 with 1 Axes>"
      ]
     },
     "metadata": {
      "needs_background": "light"
     },
     "output_type": "display_data"
    },
    {
     "data": {
      "image/png": "[encoded data removed]",
      "text/plain": [
       "<Figure size 432x288 with 1 Axes>"
      ]
     },
     "metadata": {
      "needs_background": "light"
     },
     "output_type": "display_data"
    },
    {
     "data": {
      "image/png": "[encoded data removed]",
      "text/plain": [
       "<Figure size 432x288 with 1 Axes>"
      ]
     },
     "metadata": {
      "needs_background": "light"
     },
     "output_type": "display_data"
    },
    {
     "data": {
      "image/png": "[encoded data removed]",
      "text/plain": [
       "<Figure size 432x288 with 1 Axes>"
      ]
     },
     "metadata": {
      "needs_background": "light"
     },
     "output_type": "display_data"
    }
   ],
   "source": [
    "accuracies = [accuracy_down_l, accuracy_down_p, accuracy_down_r, accuracy_up_l, accuracy_up_p, accuracy_up_r]\n",
    "plot(accuracies, 'accuracy', 'k')\n",
    "precisions = [precision_down_l, precision_down_p, precision_down_r, precision_up_l, precision_up_p, precision_up_r]\n",
    "plot(precisions, 'precision', 'r')\n",
    "recalls = [recall_down_l, recall_down_p, recall_down_r, recall_up_l, recall_up_p, recall_up_r]\n",
    "plot(recalls, 'recall', 'b')\n",
    "rocs = [roc_down_l, roc_down_p, roc_down_r, roc_up_l, roc_up_p, roc_up_r]\n",
    "plot(rocs, 'roc', 'orange')"
   ]
  },
  {
   "cell_type": "markdown",
   "id": "1c305e8f",
   "metadata": {},
   "source": [
    "### Confusion matrix of the best model\n",
    "Up sampling RBF kernel"
   ]
  },
  {
   "cell_type": "code",
   "execution_count": 23,
   "id": "bf4bcdbd",
   "metadata": {},
   "outputs": [
    {
     "data": {
      "image/png": "[encoded data removed]",
      "text/plain": [
       "<Figure size 432x288 with 2 Axes>"
      ]
     },
     "metadata": {
      "needs_background": "light"
     },
     "output_type": "display_data"
    }
   ],
   "source": [
    "cf_matrix = sklearn.metrics.confusion_matrix(y_test_up, y_up_r_predict)\n",
    "\n",
    "ax = sns.heatmap(cf_matrix/np.sum(cf_matrix), annot=True, fmt='.2%', cmap='Blues')\n",
    "ax.set_xlabel('Predicted Values')\n",
    "ax.set_ylabel('Actual Values ')\n",
    "ax.xaxis.set_ticklabels(['False','True'])\n",
    "ax.yaxis.set_ticklabels(['False','True'])\n",
    "plt.show()"
   ]
  },
  {
   "cell_type": "markdown",
   "id": "e5f3e003",
   "metadata": {},
   "source": [
    "### Determining the most contributing features"
   ]
  },
  {
   "cell_type": "code",
   "execution_count": 25,
   "id": "134497b9",
   "metadata": {},
   "outputs": [
    {
     "data": {
      "image/png": "[encoded data removed]",
      "text/plain": [
       "<Figure size 432x288 with 1 Axes>"
      ]
     },
     "metadata": {
      "needs_background": "light"
     },
     "output_type": "display_data"
    }
   ],
   "source": [
    "def f_importances(coef, names):\n",
    "    imp = coef\n",
    "    imp,names = zip(*sorted(zip(imp,names)))\n",
    "    plt.barh(np.arange(len(names)), imp, align='center',color='lightblue')\n",
    "    plt.yticks(np.arange(len(names)), names)\n",
    "    plt.xlabel('Absolute weights')\n",
    "    plt.show()\n",
    "\n",
    "features_names = ['city_development_index', 'gender', 'relevent_experience', 'enrolled_university', 'education_level',\n",
    "                  'major_discipline', 'experience', 'company_size', 'company_type', 'last_new_job', 'training_hours']\n",
    "f_importances(np.abs(svm_up_l.coef_).flatten(), features_names)"
   ]
  }
 ],
 "metadata": {
  "kernelspec": {
   "display_name": "Python 3 (ipykernel)",
   "language": "python",
   "name": "python3"
  },
  "language_info": {
   "codemirror_mode": {
    "name": "ipython",
    "version": 3
   },
   "file_extension": ".py",
   "mimetype": "text/x-python",
   "name": "python",
   "nbconvert_exporter": "python",
   "pygments_lexer": "ipython3",
   "version": "3.9.7"
  }
 },
 "nbformat": 4,
 "nbformat_minor": 5
}
